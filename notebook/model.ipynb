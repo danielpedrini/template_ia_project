{ "cells": [ { "cell_type": "code", "metadata": {}, "source": [ "import os", "os.environ[\"TF_CPP_MIN_LOG_LEVEL\"] = \"3\"" ], "outputs": [] } ], "metadata": {}, "nbformat": 4, "nbformat_minor": 4 }
